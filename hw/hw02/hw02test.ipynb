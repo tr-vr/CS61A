{
 "cells": [
  {
   "cell_type": "code",
   "execution_count": 11,
   "metadata": {},
   "outputs": [
    {
     "name": "stdout",
     "output_type": "stream",
     "text": [
      "2 1\n",
      "6 4\n",
      "20 9\n"
     ]
    },
    {
     "data": {
      "text/plain": [
       "58"
      ]
     },
     "execution_count": 11,
     "metadata": {},
     "output_type": "execute_result"
    }
   ],
   "source": [
    "square = lambda x: x * x\n",
    "\n",
    "identity = lambda x: x\n",
    "\n",
    "triple = lambda x: 3 * x\n",
    "\n",
    "increment = lambda x: x + 1\n",
    "\n",
    "def combiner(x,y):\n",
    "    print(x, y)\n",
    "    return 2 * (x + y)\n",
    "\n",
    "def accumulate(fuse, start, n, term):\n",
    "    total, k = start, 1\n",
    "    while k <= n:\n",
    "        total, k = fuse(total, term(k)), k + 1\n",
    "    return total\n",
    "accumulate(combiner, 2, 3, square)"
   ]
  },
  {
   "cell_type": "code",
   "execution_count": 25,
   "metadata": {},
   "outputs": [
    {
     "data": {
      "text/plain": [
       "72"
      ]
     },
     "execution_count": 25,
     "metadata": {},
     "output_type": "execute_result"
    }
   ],
   "source": [
    "from operator import add, mul, sub\n",
    "square = lambda x: x * x\n",
    "\n",
    "identity = lambda x: x\n",
    "\n",
    "triple = lambda x: 3 * x\n",
    "\n",
    "increment = lambda x: x + 1\n",
    "\n",
    "def accumulate(combiner, base, n, f):\n",
    "    total = base\n",
    "    for i in range(1, n+1):\n",
    "        total = combiner(total, f(i))\n",
    "    return total\n",
    "\n",
    "accumulate(mul, 2, 3, square)"
   ]
  },
  {
   "cell_type": "code",
   "execution_count": 35,
   "metadata": {},
   "outputs": [
    {
     "name": "stdout",
     "output_type": "stream",
     "text": [
      "25\n",
      "625\n"
     ]
    },
    {
     "data": {
      "text/plain": [
       "625"
      ]
     },
     "execution_count": 35,
     "metadata": {},
     "output_type": "execute_result"
    }
   ],
   "source": [
    "square = lambda x: x * x\n",
    "\n",
    "def make_repeater(h, n):\n",
    "    \"\"\"Return the function that computes the nth application of h.\n",
    "\n",
    "    >>> add_three = make_repeater(increment, 3)\n",
    "    >>> add_three(5)\n",
    "    8\n",
    "    >>> make_repeater(triple, 5)(1) # 3 * 3 * 3 * 3 * 3 * 1\n",
    "    243\n",
    "    >>> make_repeater(square, 2)(5) # square(square(5))\n",
    "    625\n",
    "    >>> make_repeater(square, 4)(5) # square(square(square(square(5))))\n",
    "    152587890625\n",
    "    >>> make_repeater(square, 0)(5) # Yes, it makes sense to apply the function zero times! \n",
    "    5\n",
    "\n",
    "    This seems to require a high-order function approach\n",
    "    \"\"\"\n",
    "    def repeater(x):\n",
    "        k = 0\n",
    "        while k < n:\n",
    "            x = h(x)\n",
    "            print(x)\n",
    "            k += 1\n",
    "        return x\n",
    "    return repeater\n",
    "    \n",
    "make_repeater(square,2)(5)"
   ]
  },
  {
   "cell_type": "markdown",
   "metadata": {},
   "source": [
    "Higher order functions are considered to be functions that can manipulate other functions.\n",
    "They can take a function as an argument, also return functions. \n",
    "In the scenario where it returns a function it often has nested functions inside. \n",
    "\n",
    "For nested functions its important to remember what environment they are local to.\n",
    "\n"
   ]
  },
  {
   "cell_type": "code",
   "execution_count": 3,
   "metadata": {},
   "outputs": [
    {
     "ename": "TypeError",
     "evalue": "'int' object is not callable",
     "output_type": "error",
     "traceback": [
      "\u001b[0;31m---------------------------------------------------------------------------\u001b[0m",
      "\u001b[0;31mTypeError\u001b[0m                                 Traceback (most recent call last)",
      "Cell \u001b[0;32mIn[3], line 7\u001b[0m\n\u001b[1;32m      4\u001b[0m         \u001b[38;5;28;01mreturn\u001b[39;00m f(x)\n\u001b[1;32m      5\u001b[0m     \u001b[38;5;28;01mreturn\u001b[39;00m idk\n\u001b[0;32m----> 7\u001b[0m \u001b[43mone\u001b[49m\u001b[43m(\u001b[49m\u001b[38;5;241;43m2\u001b[39;49m\u001b[43m)\u001b[49m\u001b[43m(\u001b[49m\u001b[38;5;241;43m2\u001b[39;49m\u001b[43m)\u001b[49m\n",
      "Cell \u001b[0;32mIn[3], line 4\u001b[0m, in \u001b[0;36mone.<locals>.idk\u001b[0;34m(x)\u001b[0m\n\u001b[1;32m      3\u001b[0m \u001b[38;5;28;01mdef\u001b[39;00m \u001b[38;5;21midk\u001b[39m(x):\n\u001b[0;32m----> 4\u001b[0m     \u001b[38;5;28;01mreturn\u001b[39;00m \u001b[43mf\u001b[49m\u001b[43m(\u001b[49m\u001b[43mx\u001b[49m\u001b[43m)\u001b[49m\n",
      "\u001b[0;31mTypeError\u001b[0m: 'int' object is not callable"
     ]
    }
   ],
   "source": [
    "def one(f):\n",
    "    \"\"\"Church numeral 1: same as successor(zero)\"\"\"\n",
    "    def idk(x):\n",
    "        return f(x)\n",
    "    return idk\n",
    "\n",
    "one(2)\n"
   ]
  },
  {
   "cell_type": "markdown",
   "metadata": {},
   "source": [
    "What are the point of lambda functions?\n",
    "\n",
    "- Well they are made to be used inside higher-order functions\n",
    "\n",
    "lambda x, y: #this part is where you take your inputs, and the part after the \n",
    "semi-colon is what is returned."
   ]
  },
  {
   "cell_type": "code",
   "execution_count": 8,
   "metadata": {},
   "outputs": [
    {
     "data": {
      "text/plain": [
       "19"
      ]
     },
     "execution_count": 8,
     "metadata": {},
     "output_type": "execute_result"
    }
   ],
   "source": [
    "square = lambda x: x*x\n",
    "\n",
    "def accumulate(combiner, base, n, f):\n",
    "    total = base\n",
    "    for i in range(1, n+1):\n",
    "        total = combiner(total,f(i))\n",
    "    return total\n",
    "\n",
    "def xy(x,y):\n",
    "    return x+y+1\n",
    "\n",
    "accumulate(lambda x,y : x+y+1 , 2, 3, square)"
   ]
  }
 ],
 "metadata": {
  "kernelspec": {
   "display_name": "Python 3",
   "language": "python",
   "name": "python3"
  },
  "language_info": {
   "codemirror_mode": {
    "name": "ipython",
    "version": 3
   },
   "file_extension": ".py",
   "mimetype": "text/x-python",
   "name": "python",
   "nbconvert_exporter": "python",
   "pygments_lexer": "ipython3",
   "version": "3.11.5"
  }
 },
 "nbformat": 4,
 "nbformat_minor": 2
}
