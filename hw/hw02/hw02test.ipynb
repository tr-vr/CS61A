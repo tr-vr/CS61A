{
 "cells": [
  {
   "cell_type": "code",
   "execution_count": 11,
   "metadata": {},
   "outputs": [
    {
     "name": "stdout",
     "output_type": "stream",
     "text": [
      "2 1\n",
      "6 4\n",
      "20 9\n"
     ]
    },
    {
     "data": {
      "text/plain": [
       "58"
      ]
     },
     "execution_count": 11,
     "metadata": {},
     "output_type": "execute_result"
    }
   ],
   "source": [
    "square = lambda x: x * x\n",
    "\n",
    "identity = lambda x: x\n",
    "\n",
    "triple = lambda x: 3 * x\n",
    "\n",
    "increment = lambda x: x + 1\n",
    "\n",
    "def combiner(x,y):\n",
    "    print(x, y)\n",
    "    return 2 * (x + y)\n",
    "\n",
    "def accumulate(fuse, start, n, term):\n",
    "    total, k = start, 1\n",
    "    while k <= n:\n",
    "        total, k = fuse(total, term(k)), k + 1\n",
    "    return total\n",
    "accumulate(combiner, 2, 3, square)"
   ]
  },
  {
   "cell_type": "code",
   "execution_count": 25,
   "metadata": {},
   "outputs": [
    {
     "data": {
      "text/plain": [
       "72"
      ]
     },
     "execution_count": 25,
     "metadata": {},
     "output_type": "execute_result"
    }
   ],
   "source": [
    "from operator import add, mul, sub\n",
    "square = lambda x: x * x\n",
    "\n",
    "identity = lambda x: x\n",
    "\n",
    "triple = lambda x: 3 * x\n",
    "\n",
    "increment = lambda x: x + 1\n",
    "\n",
    "def accumulate(combiner, base, n, f):\n",
    "    total = base\n",
    "    for i in range(1, n+1):\n",
    "        total = combiner(total, f(i))\n",
    "    return total\n",
    "\n",
    "accumulate(mul, 2, 3, square)"
   ]
  },
  {
   "cell_type": "code",
   "execution_count": 35,
   "metadata": {},
   "outputs": [
    {
     "name": "stdout",
     "output_type": "stream",
     "text": [
      "25\n",
      "625\n"
     ]
    },
    {
     "data": {
      "text/plain": [
       "625"
      ]
     },
     "execution_count": 35,
     "metadata": {},
     "output_type": "execute_result"
    }
   ],
   "source": [
    "square = lambda x: x * x\n",
    "\n",
    "def make_repeater(h, n):\n",
    "    \"\"\"Return the function that computes the nth application of h.\n",
    "\n",
    "    >>> add_three = make_repeater(increment, 3)\n",
    "    >>> add_three(5)\n",
    "    8\n",
    "    >>> make_repeater(triple, 5)(1) # 3 * 3 * 3 * 3 * 3 * 1\n",
    "    243\n",
    "    >>> make_repeater(square, 2)(5) # square(square(5))\n",
    "    625\n",
    "    >>> make_repeater(square, 4)(5) # square(square(square(square(5))))\n",
    "    152587890625\n",
    "    >>> make_repeater(square, 0)(5) # Yes, it makes sense to apply the function zero times! \n",
    "    5\n",
    "\n",
    "    This seems to require a high-order function approach\n",
    "    \"\"\"\n",
    "    def repeater(x):\n",
    "        k = 0\n",
    "        while k < n:\n",
    "            x = h(x)\n",
    "            print(x)\n",
    "            k += 1\n",
    "        return x\n",
    "    return repeater\n",
    "    \n",
    "make_repeater(square,2)(5)"
   ]
  }
 ],
 "metadata": {
  "kernelspec": {
   "display_name": "Python 3",
   "language": "python",
   "name": "python3"
  },
  "language_info": {
   "codemirror_mode": {
    "name": "ipython",
    "version": 3
   },
   "file_extension": ".py",
   "mimetype": "text/x-python",
   "name": "python",
   "nbconvert_exporter": "python",
   "pygments_lexer": "ipython3",
   "version": "3.11.5"
  }
 },
 "nbformat": 4,
 "nbformat_minor": 2
}
