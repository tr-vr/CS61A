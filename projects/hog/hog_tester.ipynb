{
 "cells": [
  {
   "cell_type": "markdown",
   "metadata": {},
   "source": [
    ">>> always_one = hog.make_test_dice(1)\n",
    ">>> always_two = hog.make_test_dice(2)\n",
    ">>> always_three = hog.make_test_dice(3)\n",
    ">>> always = hog.always_roll\n",
    ">>> # example 1\n",
    ">>> def strat0(s0, s1):\n",
    "...     if s0 == 0: return 3\n",
    "...     if s0 == 7: return 5\n",
    "...     return 8\n",
    ">>> def strat1(s0, s1):\n",
    "...     if s0 == 0: return 1\n",
    "...     if s0 == 4: return 2\n",
    "...     return 6\n",
    ">>> s0, s1 = hog.play(\n",
    "...   strat0, strat1, score0=0, score1=0, goal=21,\n",
    "...   dice=hog.make_test_dice(2, 2, 3, 4, 2, 2, 2, 2, 2, 3, 5, 2, 2, 2, 2, 2, 2, 2, 6, 1))"
   ]
  },
  {
   "cell_type": "markdown",
   "metadata": {},
   "source": [
    "turn 1\n",
    "s0 = 2 + 2 + 3 = 7\n",
    "s1 = 4\n",
    "\n",
    "turn 2\n",
    "s0 = 7 + 10 + 3 = 20\n",
    "s1 = 4 + 16 + 3 = 23\n",
    "\n",
    "example 2:\n",
    "turn 1\n",
    "s0 = 2 + 2 + 3 = 7\n",
    "s1 = 4\n",
    "\n",
    "turn 2:\n",
    "s0 = 7 + 10 + 3 = 20 but i rolled 10 points, so if i roll a 12 or 8 + 3 bonus points\n",
    "s1 = 4 + 3 + 5 + 3 = 15 last turn i rolled 8 points\n",
    "\n",
    "turn 3:\n",
    "s0 = 20 + 20 + 3 = 43\n",
    "s1 = 15 "
   ]
  },
  {
   "cell_type": "code",
   "execution_count": 7,
   "metadata": {},
   "outputs": [
    {
     "data": {
      "text/plain": [
       "False"
      ]
     },
     "execution_count": 7,
     "metadata": {},
     "output_type": "execute_result"
    }
   ],
   "source": [
    "def is_swap(player_score, opponent_score):\n",
    "    \"\"\"\n",
    "    Return whether the two scores should be swapped\n",
    "    \"\"\"\n",
    "    # BEGIN PROBLEM 4\n",
    "    pow_three = 3**(player_score + opponent_score)\n",
    "    last_digit = pow_three % 10\n",
    "    while (pow_three >= 10):\n",
    "        pow_three = pow_three // 10\n",
    "    if (last_digit == pow_three): #pow_three in this scenario is the first digit\n",
    "        return True\n",
    "    return False\n",
    "\n",
    "is_swap(2, 6)"
   ]
  },
  {
   "cell_type": "markdown",
   "metadata": {},
   "source": [
    "Question 5b > Suite 1 > Case 2\n",
    "(cases remaining: 102)\n",
    "\n",
    ">>> import hog\n",
    ">>> always_one = hog.make_test_dice(1)\n",
    ">>> always_two = hog.make_test_dice(2)\n",
    ">>> always_three = hog.make_test_dice(3)\n",
    ">>> always = hog.always_roll\n",
    ">>> # example 2\n",
    ">>> s0, s1 = hog.play(always(2), always(1), score0=0, score1=0, goal=5, dice=hog.make_test_dice(2, 2))\n",
    "\n",
    "1.\n",
    "    s0 = 2 + 2 + 3 = 7\n",
    "    s1 = 0"
   ]
  },
  {
   "cell_type": "markdown",
   "metadata": {},
   "source": [
    ">>> import hog\n",
    ">>> always_one = hog.make_test_dice(1)\n",
    ">>> always_two = hog.make_test_dice(2)\n",
    ">>> always_three = hog.make_test_dice(3)\n",
    ">>> always = hog.always_roll\n",
    ">>> # swap after feral hogs\n",
    ">>> s0, s1 = hog.play(always(2), always(1), score0=17, score1=6, goal=21, dice=hog.make_test_dice(1, 2))\n",
    "\n",
    "1. \n",
    "     s0 = 17 + 1 + 3 = 21\n",
    "     s1 = 6\n",
    "\n",
    "     is_swap = True\n",
    "     s0 = 6\n",
    "     s1 = 21"
   ]
  },
  {
   "cell_type": "code",
   "execution_count": 3,
   "metadata": {},
   "outputs": [
    {
     "name": "stdout",
     "output_type": "stream",
     "text": [
      "** 4\n"
     ]
    }
   ],
   "source": [
    "print('**',4)"
   ]
  }
 ],
 "metadata": {
  "kernelspec": {
   "display_name": "Python 3",
   "language": "python",
   "name": "python3"
  },
  "language_info": {
   "codemirror_mode": {
    "name": "ipython",
    "version": 3
   },
   "file_extension": ".py",
   "mimetype": "text/x-python",
   "name": "python",
   "nbconvert_exporter": "python",
   "pygments_lexer": "ipython3",
   "version": "3.11.5"
  }
 },
 "nbformat": 4,
 "nbformat_minor": 2
}
