{
 "cells": [
  {
   "cell_type": "code",
   "execution_count": 18,
   "metadata": {},
   "outputs": [
    {
     "name": "stdout",
     "output_type": "stream",
     "text": [
      "DEBUG: Value of x: 4224 , Quotient: 422 , Remainder: 4\n",
      "= SUM + REMAINDER\n",
      "= 0 + 4\n",
      "DEBUG: Value of x: 422 , Quotient: 42 , Remainder: 2\n",
      "= SUM + REMAINDER\n",
      "= 4 + 2\n",
      "DEBUG: Value of x: 42 , Quotient: 4 , Remainder: 2\n",
      "= SUM + REMAINDER\n",
      "= 6 + 2\n",
      "DEBUG: Value of x: 4 , Quotient: 0 , Remainder: 4\n",
      "= SUM + REMAINDER\n",
      "= 8 + 4\n"
     ]
    },
    {
     "data": {
      "text/plain": [
       "12"
      ]
     },
     "execution_count": 18,
     "metadata": {},
     "output_type": "execute_result"
    }
   ],
   "source": [
    "def sum_digits(x):\n",
    "    \"\"\"Sum all the digits of x.\n",
    "\n",
    "    >>> sum_digits(10) # 1 + 0 = 1\n",
    "    1\n",
    "    >>> sum_digits(4224) # 4 + 2 + 2 + 4 = 12\n",
    "    12\n",
    "    >>> sum_digits(1234567890)\n",
    "    45\n",
    "    >>> a = sum_digits(123) # make sure that you are using return rather than print\n",
    "    >>> a\n",
    "    6\n",
    "    \"\"\"\n",
    "    \"*** YOUR CODE HERE ***\"\n",
    "    total = 0\n",
    "    while x // 10 or x % 10: #check to see if quotient is 0 or remainder is 0. Also do -> while x > 0:\n",
    "        print(\"DEBUG: Value of x: \" + str(x) \n",
    "              + \" , Quotient: \" + str(x // 10)\n",
    "              + \" , Remainder: \" + str(x % 10))\n",
    "        print(\"= SUM + REMAINDER\")\n",
    "        print(\"= \" + str(total) + \" + \" + str(x%10))\n",
    "        total += x % 10\n",
    "        \n",
    "        x = x // 10\n",
    "    return total\n",
    "\n",
    "sum_digits(4224)"
   ]
  }
 ],
 "metadata": {
  "kernelspec": {
   "display_name": "Python 3",
   "language": "python",
   "name": "python3"
  },
  "language_info": {
   "codemirror_mode": {
    "name": "ipython",
    "version": 3
   },
   "file_extension": ".py",
   "mimetype": "text/x-python",
   "name": "python",
   "nbconvert_exporter": "python",
   "pygments_lexer": "ipython3",
   "version": "3.11.5"
  },
  "orig_nbformat": 4
 },
 "nbformat": 4,
 "nbformat_minor": 2
}
