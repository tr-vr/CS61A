{
 "cells": [
  {
   "cell_type": "markdown",
   "metadata": {},
   "source": [
    "1.6 Higher-Order Functions\n",
    "To express certain general patterns as named concepts, must be able to construct\n",
    "functions that can accept other functions as arguments or return functions as \n",
    "values. We call these functions higher-order functions, because they can \n",
    "manipulate other functions. "
   ]
  },
  {
   "cell_type": "code",
   "execution_count": 3,
   "metadata": {},
   "outputs": [
    {
     "data": {
      "text/plain": [
       "5050"
      ]
     },
     "execution_count": 3,
     "metadata": {},
     "output_type": "execute_result"
    }
   ],
   "source": [
    "def sum_naturals(n):\n",
    "    total, k = 0, 1\n",
    "    while k <= n:\n",
    "        total, k = total + k, k + 1\n",
    "    return total\n",
    "\n",
    "sum_naturals(100)"
   ]
  },
  {
   "cell_type": "code",
   "execution_count": 7,
   "metadata": {},
   "outputs": [
    {
     "data": {
      "text/plain": [
       "25502500"
      ]
     },
     "execution_count": 7,
     "metadata": {},
     "output_type": "execute_result"
    }
   ],
   "source": [
    "def sum_cubes(n):\n",
    "    total, k = 0, 1\n",
    "    while k <= n:\n",
    "        total, k = total + k*k*k, k+1\n",
    "    return total\n",
    "\n",
    "sum_cubes(100)"
   ]
  },
  {
   "cell_type": "markdown",
   "metadata": {},
   "source": [
    "These functions share a common underlying pattern. They are for the most part\n",
    "idetical, differing only in name and the function of k used to compute the term\n",
    "to be added. The presence of such a common pattern is strong evidence that there\n",
    "is a useful abstraction waiting to be brought to the surface.\n",
    "\n",
    "In this case, the common pattern that we are able to abstract is the summation \n",
    "of terms. As a program designers, we would like our language to be powerful \n",
    "enough so that we can write a function that expresses the concept of summation \n",
    "itself rather than only functions that computes a particular sum. \n",
    "\n",
    "This uses the idea first discussed in 1.4 where we functions should be designed\n",
    "generally, so that it can be used in various cases.\n",
    "\n",
    "For this scenario we will take the common template above for the function and\n",
    "transform the slots into formal parameters. "
   ]
  },
  {
   "cell_type": "code",
   "execution_count": 13,
   "metadata": {},
   "outputs": [
    {
     "name": "stdout",
     "output_type": "stream",
     "text": [
      "36\n"
     ]
    }
   ],
   "source": [
    "def summation(n, term):\n",
    "    total, k = 0, 1\n",
    "    while k <= n:\n",
    "        total, k = total + term(k), k + 1\n",
    "    return total\n",
    "\n",
    "def cube(k):\n",
    "    return k*k*k\n",
    "\n",
    "def identity(k):\n",
    "    return k\n",
    "\n",
    "def sum_cubes(n):\n",
    "    return summation(n, cube)\n",
    "\n",
    "def sum_naturals(n):\n",
    "    return summation(n, identity)\n",
    "\n",
    "result = sum_cubes(3)\n",
    "\n",
    "print(result)"
   ]
  }
 ],
 "metadata": {
  "kernelspec": {
   "display_name": "Python 3",
   "language": "python",
   "name": "python3"
  },
  "language_info": {
   "codemirror_mode": {
    "name": "ipython",
    "version": 3
   },
   "file_extension": ".py",
   "mimetype": "text/x-python",
   "name": "python",
   "nbconvert_exporter": "python",
   "pygments_lexer": "ipython3",
   "version": "3.11.5"
  }
 },
 "nbformat": 4,
 "nbformat_minor": 2
}
