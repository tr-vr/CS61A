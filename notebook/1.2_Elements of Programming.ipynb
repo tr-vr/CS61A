{
 "cells": [
  {
   "cell_type": "markdown",
   "metadata": {},
   "source": [
    "1.2 Elements of Programming\n",
    "\n",
    "Every powerful language has three important mechanisms\n",
    "    - primitive expressions and statements, which represents the simplest blocks \n",
    "    that the language provides\n",
    "    - means of combination, by which compound elements are built from simpler \n",
    "    ones\n",
    "    - means of abstractions, \n",
    "\n",
    "\n",
    "In programming we are dealing with two elements: functions and data.\n",
    "Data is the stuff that we want to manipulate and functions describe the rules\n",
    "for manipulating this data."
   ]
  }
 ],
 "metadata": {
  "kernelspec": {
   "display_name": "Python 3",
   "language": "python",
   "name": "python3"
  },
  "language_info": {
   "name": "python",
   "version": "3.11.5"
  }
 },
 "nbformat": 4,
 "nbformat_minor": 2
}
