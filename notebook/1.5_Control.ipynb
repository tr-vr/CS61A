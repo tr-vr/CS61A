{
 "cells": [
  {
   "cell_type": "markdown",
   "metadata": {},
   "source": [
    "1.5 Control\n",
    "\n",
    "So far, we have learned about expressions. Statements how ever allow us to make\n",
    "comparisons and to perform different operations depending on the results of the\n",
    "comparison!\n",
    "\n",
    "Statements differ fundamentally from the expressions, since they have no value. \n",
    "Instead of computing something, executing a control statement determines what\n",
    "the interpreter will do next."
   ]
  },
  {
   "cell_type": "markdown",
   "metadata": {},
   "source": [
    "\n",
    "1.5.1   Statements\n",
    "\n",
    "So far, we have primarily considered how to evaluate expressions. However, we have seen three kinds of statements already: assignment, def, and return statements. These lines of Python code are not themselves expressions, although they all contain expressions as components.\n",
    "\n",
    "Rather than being evaluated, statements are executed. Each statement describes some change to the interpreter state, and executing a statement applies that change. As we have seen for return and assignment statements, executing statements can involve evaluating subexpressions contained within them.\n",
    "\n",
    "Expressions can also be executed as statements, in which case they are evaluated, but their value is discarded. Executing a pure function has no effect, but executing a non-pure function can cause effects as a consequence of function application.\n",
    "\n",
    "Consider, for instance,\n",
    "\n",
    ">>> def square(x):\n",
    "        mul(x, x) # Watch out! This call doesn't return a value.\n",
    "\n",
    "This example is valid Python, but probably not what was intended. The body of the function consists of an expression. An expression by itself is a valid statement, but the effect of the statement is that the mul function is called, and the result is discarded. If you want to do something with the result of an expression, you need to say so: you might store it with an assignment statement or return it with a return statement:\n",
    "\n",
    ">>> def square(x):\n",
    "        return mul(x, x)\n",
    "\n",
    "Sometimes it does make sense to have a function whose body is an expression, when a non-pure function like print is called.\n",
    "\n",
    ">>> def print_square(x):\n",
    "        print(square(x))\n",
    "\n",
    "At its highest level, the Python interpreter's job is to execute programs, composed of statements. However, much of the interesting work of computation comes from evaluating expressions. Statements govern the relationship among different expressions in a program and what happens to their results.\n",
    "\n",
    "COPIED FROM composingprograms.com"
   ]
  },
  {
   "cell_type": "markdown",
   "metadata": {},
   "source": [
    "1.5.2 Compound Statements\n",
    "\n",
    "<header>:\n",
    "    <statement>\n",
    "    <statement>\n",
    "    ...\n",
    "<separating header>:\n",
    "    <statement>\n",
    "    <statement>\n",
    "    ...\n",
    "...\n",
    "\n",
    "We can understand the statements we have already introduced in these terms.\n",
    "\n",
    "    Expressions, return statements, and assignment statements are simple statements.\n",
    "    A def statement is a compound statement. The suite that follows the def header defines the function body.\n",
    "\n",
    "We can also understand multi-line programs now.\n",
    "\n",
    "    To execute a sequence of statements, execute the first statement. If that statement does not redirect control, then proceed to execute the rest of the sequence of statements, if any remain.\n",
    "\n",
    "The important consequence of this rule is that statements are executed in order, but later statements may never be reached, because of redirected control.\n",
    "\n",
    "Note that when indenting a suite, all lines must be indented the same amount and\n",
    "in the same way (use spaces, not tabs). Any variation in the indentation will \n",
    "cause an error.\n"
   ]
  },
  {
   "cell_type": "markdown",
   "metadata": {},
   "source": [
    "1.5.3 Defining Functions II: Local Assignment\n",
    "\n",
    "Assignment statements is to bind a name to a value in the first frame of the \n",
    "current environment. As a consequence of this, assingment statements within \n",
    "a function body cannot affect the global frame.\n",
    "\n",
    "The fact that functions can only manipulate their local environment is critical \n",
    "to creating modular programs, in which pure functions interact only via the\n",
    "values they take and return."
   ]
  },
  {
   "cell_type": "markdown",
   "metadata": {},
   "source": [
    "1.5.4 Conditional Statements\n",
    "\n",
    "We should know that python has a built-in function for computing absolute \n",
    "values. \n",
    "\n",
    ">>> abs(-2)\n",
    "2\n",
    "\n",
    "Conditional statements. A conditional statement in Python consists of a series of headers and suites: a required if clause, an optional sequence of elif clauses, and finally an optional else clause:\n",
    "\n",
    "if <expression>:\n",
    "    <suite>\n",
    "elif <expression>:\n",
    "    <suite>\n",
    "else:\n",
    "    <suite>\n",
    "\n",
    "When executing a conditional statement, each clause is considered in order. The computational process of executing a conditional clause follows.\n",
    "\n",
    "    Evaluate the header's expression.\n",
    "    If it is a true value, execute the suite. Then, skip over all subsequent clauses in the conditional statement.\n",
    "\n",
    "If the else clause is reached (which only happens if all if and elif expressions evaluate to false values), its suite is executed.\n",
    "\n",
    "False values = 0, none and boolean value False.\n",
    "\n",
    "Assignment (=) whereas equality comparison (==)\n",
    "\n",
    ">>> True and False\n",
    "False\n",
    ">>> True or False\n",
    "True\n",
    ">>> not False\n",
    "True\n",
    "\n"
   ]
  }
 ],
 "metadata": {
  "kernelspec": {
   "display_name": "Python 3",
   "language": "python",
   "name": "python3"
  },
  "language_info": {
   "name": "python",
   "version": "3.11.5"
  },
  "orig_nbformat": 4
 },
 "nbformat": 4,
 "nbformat_minor": 2
}
