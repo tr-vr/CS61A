{
 "cells": [
  {
   "cell_type": "markdown",
   "metadata": {},
   "source": [
    "1.5 Control\n",
    "\n",
    "So far, we have learned about expressions. Statements how ever allow us to make\n",
    "comparisons and to perform different operations depending on the results of the\n",
    "comparison!\n",
    "\n",
    "Statements differ fundamentally from the expressions, since they have no value. \n",
    "Instead of computing something, executing a control statement determines what\n",
    "the interpreter will do next."
   ]
  },
  {
   "cell_type": "markdown",
   "metadata": {},
   "source": [
    "\n",
    "1.5.1   Statements\n",
    "\n",
    "So far, we have primarily considered how to evaluate expressions. However, we have seen three kinds of statements already: assignment, def, and return statements. These lines of Python code are not themselves expressions, although they all contain expressions as components.\n",
    "\n",
    "Rather than being evaluated, statements are executed. Each statement describes some change to the interpreter state, and executing a statement applies that change. As we have seen for return and assignment statements, executing statements can involve evaluating subexpressions contained within them.\n",
    "\n",
    "Expressions can also be executed as statements, in which case they are evaluated, but their value is discarded. Executing a pure function has no effect, but executing a non-pure function can cause effects as a consequence of function application.\n",
    "\n",
    "Consider, for instance,\n",
    "\n",
    ">>> def square(x):\n",
    "        mul(x, x) # Watch out! This call doesn't return a value.\n",
    "\n",
    "This example is valid Python, but probably not what was intended. The body of the function consists of an expression. An expression by itself is a valid statement, but the effect of the statement is that the mul function is called, and the result is discarded. If you want to do something with the result of an expression, you need to say so: you might store it with an assignment statement or return it with a return statement:\n",
    "\n",
    ">>> def square(x):\n",
    "        return mul(x, x)\n",
    "\n",
    "Sometimes it does make sense to have a function whose body is an expression, when a non-pure function like print is called.\n",
    "\n",
    ">>> def print_square(x):\n",
    "        print(square(x))\n",
    "\n",
    "At its highest level, the Python interpreter's job is to execute programs, composed of statements. However, much of the interesting work of computation comes from evaluating expressions. Statements govern the relationship among different expressions in a program and what happens to their results.\n",
    "\n",
    "COPIED FROM composingprograms.com"
   ]
  }
 ],
 "metadata": {
  "language_info": {
   "name": "python"
  },
  "orig_nbformat": 4
 },
 "nbformat": 4,
 "nbformat_minor": 2
}
