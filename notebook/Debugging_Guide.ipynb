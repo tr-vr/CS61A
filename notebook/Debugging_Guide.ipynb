{
 "cells": [
  {
   "cell_type": "markdown",
   "metadata": {},
   "source": [
    "Traceback Messages:\n",
    "\n",
    "File \"<file name>\", line <number>, in <function>\n",
    "\n",
    "Remember that traceback is organised so that the \"most recent call last\"\n",
    "\n",
    "Error Message:\n",
    "\n",
    "<error type>: <error message>"
   ]
  },
  {
   "cell_type": "markdown",
   "metadata": {},
   "source": [
    "- Running Doctests \n",
    "\n",
    "def foo(x):\n",
    "    \"\"\"A random function.\n",
    "\n",
    "    >>> foo(4)\n",
    "    4\n",
    "    >>> foo(5)\n",
    "    5\n",
    "    \"\"\"\n",
    "\n",
    "To run our doctests, in terminal type:\n",
    "\n",
    "python3 -m doctest file.py\n",
    "\n",
    "If no message is displayed than the doctest has passed all cases in your file.\n",
    "\n",
    "python3 -m doctest file.py -v\n",
    "\n",
    "-v stands for verbose.\n",
    "\n",
    "This will provide more detailed information \n",
    "\n",
    "You can test code by (1) writing additional doctests, or (2) write testing\n",
    "functions.\n",
    "\n",
    "Some advice in writing tests:\n",
    "\n",
    "    Write some tests before you write code: this is called test-driven development. Writing down how you expect the function to behave first -- this can guide you when writing the actual code.\n",
    "    Write more tests after you write code: once you are sure your code passes the initial doctests, write some more tests to take care of edge cases.\n",
    "    Test edge cases: make sure your code works for all special cases.\n",
    "\n",
    "Using print statements"
   ]
  },
  {
   "cell_type": "markdown",
   "metadata": {},
   "source": [
    "One common practice for writing code is to use print statements, to make sure\n",
    "our variables are assigned as expected.\n",
    "\n",
    "When adding print statements, don't just print out the variable. Adding some \n",
    "message will make it much easier to read.\n",
    "\n",
    "print('DEBUG: tmp was this:', tmp)  # easier\n",
    "\n",
    "- Use print statements to view the results of function calls (i.e. after function calls).\n",
    "\n",
    "- Use print statements at the end of a while loop to view the state of the counter variables after each iteration:\n",
    "\n",
    "Print statements are meant to be used for quick debugging -- after figuring out\n",
    "the error, you should remove all print statements."
   ]
  },
  {
   "cell_type": "markdown",
   "metadata": {},
   "source": [
    "Long-term debugging\n",
    "\n",
    "debug = True\n",
    "\n",
    "def foo(n):\n",
    "i = 0\n",
    "while i < n:\n",
    "    i += func(i)\n",
    "    if debug:\n",
    "        print('DEBUG: i is', i)\n",
    "\n",
    "Which will enable the \"print\" in this function. Turn to false once done."
   ]
  },
  {
   "cell_type": "markdown",
   "metadata": {},
   "source": [
    "Interactive Debugging.\n",
    "\n",
    "python3 -i file.py"
   ]
  },
  {
   "cell_type": "markdown",
   "metadata": {},
   "source": [
    "Using 'assert' statements\n",
    "\n",
    "It is generally better for code to crash than to produce an incorrect result."
   ]
  }
 ],
 "metadata": {
  "kernelspec": {
   "display_name": "Python 3",
   "language": "python",
   "name": "python3"
  },
  "language_info": {
   "name": "python",
   "version": "3.11.5"
  },
  "orig_nbformat": 4
 },
 "nbformat": 4,
 "nbformat_minor": 2
}
