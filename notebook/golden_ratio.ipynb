{
 "cells": [
  {
   "cell_type": "code",
   "execution_count": 1,
   "metadata": {},
   "outputs": [
    {
     "data": {
      "text/plain": [
       "1.6180339887498951"
      ]
     },
     "execution_count": 1,
     "metadata": {},
     "output_type": "execute_result"
    }
   ],
   "source": [
    "def improve(update, close, guess=1):\n",
    "        while not close(guess):\n",
    "            guess = update(guess)\n",
    "        return guess\n",
    "\n",
    "def golden_update(guess):\n",
    "        return 1/guess + 1\n",
    "\n",
    "def square_close_to_successor(guess):\n",
    "        return approx_eq(guess * guess, guess + 1)\n",
    "\n",
    "def approx_eq(x, y, tolerance=1e-15):\n",
    "        return abs(x - y) < tolerance\n",
    "\n",
    "improve(golden_update, square_close_to_successor)"
   ]
  },
  {
   "cell_type": "markdown",
   "metadata": {},
   "source": []
  }
 ],
 "metadata": {
  "kernelspec": {
   "display_name": "Python 3",
   "language": "python",
   "name": "python3"
  },
  "language_info": {
   "codemirror_mode": {
    "name": "ipython",
    "version": 3
   },
   "file_extension": ".py",
   "mimetype": "text/x-python",
   "name": "python",
   "nbconvert_exporter": "python",
   "pygments_lexer": "ipython3",
   "version": "3.11.5"
  }
 },
 "nbformat": 4,
 "nbformat_minor": 2
}
