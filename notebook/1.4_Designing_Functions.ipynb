{
 "cells": [
  {
   "cell_type": "markdown",
   "metadata": {},
   "source": [
    "1.4 Designing Functions\n",
    "\n",
    "What makes a good function? Well a function is an abstraction!\n",
    "\n",
    "- Each function should only have one job. That job should be identifiable \n",
    "with a short name and characterizable in a single line of text.\n",
    "\n",
    "If a function performs multiple jobs in sequence, it should be divided into\n",
    "multiple functions.\n",
    "\n",
    "- Don't repeat yourself! This is a central tenet of software engineering.\n",
    "\n",
    "The so-called DRY principle states that multiple fragments of code should not \n",
    "describe redundant logic.\n",
    "\n",
    "Instead, that logic should be implemented once, given a name, and applied \n",
    "multiple times. If you find yourself copying and pasting a block of code, you \n",
    "have probably found an opportunity for functional abstraction.\n",
    "\n",
    "- Functions should be defined generally. \n",
    "\n",
    "Example, squaring is not in the Python Library precisely because it is a special\n",
    "case of the 'pow' function.\n",
    "\n",
    "Try and strive to create a function that can be used in various cases,\n",
    "rather than having a complex program with multiple functions for similar uses."
   ]
  },
  {
   "cell_type": "markdown",
   "metadata": {},
   "source": [
    "1.4.1 Documentation\n",
    "\n",
    "A function definition will often include documentation describing the function,\n",
    "this is called a 'docstring'. Docstrings are conventionally triple quoted. \n",
    "\n",
    "The first line will describe the job of the function in one line. The following\n",
    "lines can describe the arguments and clarify the behaviour of the function."
   ]
  },
  {
   "cell_type": "code",
   "execution_count": 2,
   "metadata": {},
   "outputs": [
    {
     "name": "stdout",
     "output_type": "stream",
     "text": [
      "Help on function pressure in module __main__:\n",
      "\n",
      "pressure(v, t, n)\n",
      "    Compute the pressure in pascals of an ideal gas.\n",
      "    \n",
      "    Applies the ideal gas law: http://en.wikipedia.org/wiki/Ideal_gas_law\n",
      "    \n",
      "    v -- volume of gas, in cubic meters\n",
      "    t -- absolute temperature in degrees kelvin\n",
      "    n -- particles of gas\n",
      "\n"
     ]
    }
   ],
   "source": [
    ">>> def pressure(v, t, n):\n",
    "        \"\"\"Compute the pressure in pascals of an ideal gas.\n",
    "\n",
    "        Applies the ideal gas law: http://en.wikipedia.org/wiki/Ideal_gas_law\n",
    "\n",
    "        v -- volume of gas, in cubic meters\n",
    "        t -- absolute temperature in degrees kelvin\n",
    "        n -- particles of gas\n",
    "        \"\"\"\n",
    "        k = 1.38e-23  # Boltzmann's constant\n",
    "        return n * k * t / v\n",
    "\n",
    "help(pressure)"
   ]
  },
  {
   "cell_type": "markdown",
   "metadata": {},
   "source": [
    "When you call the help() function you see its docstring.\n",
    "\n",
    "When writing Python programs, you should include 'docstrings' for all but the \n",
    "simplest functions. Code is written only once, but often read many times!\n",
    "\n",
    "We also use the '#' for comments. These exist for humans alone!"
   ]
  },
  {
   "cell_type": "markdown",
   "metadata": {},
   "source": [
    "1.4.2 Default Arguments Values\n",
    "\n",
    "You can assign default values for arguments, where one argument may commonly use\n",
    "the some default value"
   ]
  },
  {
   "cell_type": "code",
   "execution_count": null,
   "metadata": {},
   "outputs": [],
   "source": [
    "def pressure(v, t, n=6.022e23):\n",
    "        \"\"\"Compute the pressure in pascals of an ideal gas.\n",
    "\n",
    "        v -- volume of gas, in cubic meters\n",
    "        t -- absolute temperature in degrees kelvin\n",
    "        n -- particles of gas (default: one mole)\n",
    "        \"\"\"\n",
    "        k = 1.38e-23  # Boltzmann's constant\n",
    "        return n * k * t / v"
   ]
  }
 ],
 "metadata": {
  "kernelspec": {
   "display_name": "Python 3",
   "language": "python",
   "name": "python3"
  },
  "language_info": {
   "codemirror_mode": {
    "name": "ipython",
    "version": 3
   },
   "file_extension": ".py",
   "mimetype": "text/x-python",
   "name": "python",
   "nbconvert_exporter": "python",
   "pygments_lexer": "ipython3",
   "version": "3.11.5"
  },
  "orig_nbformat": 4
 },
 "nbformat": 4,
 "nbformat_minor": 2
}
