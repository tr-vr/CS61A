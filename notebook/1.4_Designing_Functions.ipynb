{
 "cells": [
  {
   "cell_type": "markdown",
   "metadata": {},
   "source": [
    "1.4 Designing Functions\n",
    "\n",
    "What makes a good function? Well a function is an abstraction!\n",
    "\n",
    "- Each function should only have one job. That job should be identifiable \n",
    "with a short name and characterizable in a single line of text.\n",
    "\n",
    "If a function performs multiple jobs in sequence, it should be divided into\n",
    "multiple functions.\n",
    "\n",
    "- Don't repeat yourself! This is a central tenet of software engineering.\n",
    "\n",
    "The so-called DRY principle states that multiple fragments of code should not \n",
    "describe redundant logic. \n",
    "\n",
    "Instead, that logic should be implemented once, given a name, and applied \n",
    "multiple times. If you find yourself copying and pasting a block of code, you \n",
    "have probably found an opportunity for functional abstraction.\n",
    "\n",
    "- Functions should be defined generally. \n",
    "\n",
    "Example, squaring is not in the Python Library precisely because it is a special\n",
    "case of the 'pow' function."
   ]
  }
 ],
 "metadata": {
  "language_info": {
   "name": "python"
  },
  "orig_nbformat": 4
 },
 "nbformat": 4,
 "nbformat_minor": 2
}
