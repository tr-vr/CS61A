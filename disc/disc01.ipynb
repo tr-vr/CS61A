{
 "cells": [
  {
   "cell_type": "markdown",
   "metadata": {},
   "source": [
    "While Loops\n",
    "\n",
    "To repeat the same statement multiple times in a program we can use iteration. \n",
    "In python, one way of doing this is with a while loop.\n",
    "\n",
    "As long as the <conditional clause> evaluates to True, the <body of statements>\n",
    "will continue to be executed. The conditional clause gets evaluated each time \n",
    "the body finishes executing. \n",
    "\n",
    "Questions\n",
    "\n",
    "1.2 "
   ]
  },
  {
   "cell_type": "code",
   "execution_count": null,
   "metadata": {},
   "outputs": [],
   "source": [
    "def square(x):\n",
    "    print(\"here!\")\n",
    "    return x * x\n",
    "\n",
    "def so_slow(num):\n",
    "    x = num\n",
    "    while x > 0:\n",
    "        x = x + 1\n",
    "    return x / 0\n",
    "\n",
    "square(so_slow(5))"
   ]
  },
  {
   "cell_type": "markdown",
   "metadata": {},
   "source": [
    "This will result in an infinite loop because the while loop is always True,\n",
    "hence the body of statements will continued to be executed and the 'return x/0'\n",
    "or the square() function will never be reached."
   ]
  },
  {
   "cell_type": "markdown",
   "metadata": {},
   "source": [
    "1.3\n",
    "\n",
    "Write a function that returns True if a positive integer n is a prime number and\n",
    "False otherwise.\n",
    "\n",
    "A prime number n is a number that is not divisible by any numbers other than 1\n",
    "and n itself. For example, 13 is prime, since it is only divisible by 1 and 13, but 14\n",
    "is not, since it is divisible by 1, 2, 7, and 14.\n",
    "\n",
    "Hint: use the % operator: x % y returns the remainder of x when divided by y."
   ]
  },
  {
   "cell_type": "code",
   "execution_count": null,
   "metadata": {},
   "outputs": [],
   "source": [
    "def is_prime(n):\n",
    "    \"\"\"\n",
    "    >>> is_prime(10)\n",
    "    False\n",
    "    >>> is_prime(7)\n",
    "    True\n",
    "    \"\"\"\n",
    "    x = n\n",
    "    if n == 1:\n",
    "        return False\n",
    "    while x > 2:\n",
    "        x -= 1\n",
    "        if n % x == 0:\n",
    "            return False \n",
    "    return True\n",
    "\n",
    "is_prime(17)"
   ]
  },
  {
   "cell_type": "markdown",
   "metadata": {},
   "source": [
    "2. Environment Diagrams\n",
    "\n",
    "2.1 Use these rules to draw a simple diagram for the assignment statement below:\n",
    "x = 10 % 4 \n",
    "\n",
    "x | 2\n",
    "\n",
    "y | 2 \n",
    "\n",
    "\"\"\" **= means left side to the power of the right side\n",
    "\n",
    "e.g a**=b is equal to a to the power of b \"\"\"\n",
    "\n",
    "x | 4"
   ]
  },
  {
   "cell_type": "markdown",
   "metadata": {},
   "source": [
    "def statements\n",
    "\n",
    "\n",
    "def double(x):                          \n",
    "    return x * 2                            \n",
    "\n",
    "def triple(x):\n",
    "    return x * 3\n",
    "\n",
    "hat = double\n",
    "double = triple"
   ]
  },
  {
   "cell_type": "code",
   "execution_count": null,
   "metadata": {},
   "outputs": [],
   "source": [
    "x = 3\n",
    "\n",
    "def p(rint):\n",
    "    print(rint)\n",
    "\n",
    "def g(x,y):\n",
    "    if x:\n",
    "        print(\"one\")\n",
    "    elif x:\n",
    "        print(True, x)\n",
    "    if y:\n",
    "        print(True, y)\n",
    "    else:\n",
    "        print(False, y)\n",
    "    return print(p(y)) + x\n",
    "\n",
    "g(3,0)"
   ]
  },
  {
   "cell_type": "markdown",
   "metadata": {},
   "source": [
    "In the scenario above, the placements, it shows that importance of the placements\n",
    "of the if and elif and else statements.\n",
    "\n",
    "It first checks runs through the x variable, checking the 'if statements' and\n",
    "executing the code block if true, and does the same for the y variable.\n",
    "\n"
   ]
  }
 ],
 "metadata": {
  "kernelspec": {
   "display_name": "Python 3",
   "language": "python",
   "name": "python3"
  },
  "language_info": {
   "codemirror_mode": {
    "name": "ipython",
    "version": 3
   },
   "file_extension": ".py",
   "mimetype": "text/x-python",
   "name": "python",
   "nbconvert_exporter": "python",
   "pygments_lexer": "ipython3",
   "version": "3.11.5"
  }
 },
 "nbformat": 4,
 "nbformat_minor": 2
}
