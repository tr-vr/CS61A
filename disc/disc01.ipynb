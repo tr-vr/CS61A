{
 "cells": [
  {
   "cell_type": "markdown",
   "metadata": {},
   "source": [
    "While Loops\n",
    "\n",
    "To repeat the same statement multiple times in a program we can use iteration. \n",
    "In python, one way of doing this is with a while loop.\n",
    "\n",
    "As long as the <conditional clause> evaluates to True, the <body of statements>\n",
    "will continue to be executed. The conditional clause gets evaluated each time \n",
    "the body finishes executing. \n",
    "\n",
    "Questions\n",
    "\n",
    "1.2 "
   ]
  },
  {
   "cell_type": "code",
   "execution_count": null,
   "metadata": {},
   "outputs": [],
   "source": [
    "def square(x):\n",
    "    print(\"here!\")\n",
    "    return x * x\n",
    "\n",
    "def so_slow(num):\n",
    "    x = num\n",
    "    while x > 0:\n",
    "        x = x + 1\n",
    "    return x / 0\n",
    "\n",
    "square(so_slow(5))"
   ]
  },
  {
   "cell_type": "markdown",
   "metadata": {},
   "source": [
    "This will result in an infinite loop because the while loop is always True,\n",
    "hence the body of statements will continued to be executed and the 'return x/0'\n",
    "or the square() function will never be reached."
   ]
  },
  {
   "cell_type": "markdown",
   "metadata": {},
   "source": [
    "1.3\n",
    "\n",
    "Write a function that returns True if a positive integer n is a prime number and\n",
    "False otherwise.\n",
    "\n",
    "A prime number n is a number that is not divisible by any numbers other than 1\n",
    "and n itself. For example, 13 is prime, since it is only divisible by 1 and 13, but 14\n",
    "is not, since it is divisible by 1, 2, 7, and 14.\n",
    "\n",
    "Hint: use the % operator: x % y returns the remainder of x when divided by y."
   ]
  },
  {
   "cell_type": "code",
   "execution_count": null,
   "metadata": {},
   "outputs": [],
   "source": [
    "def is_prime(n):\n",
    "    \"\"\"\n",
    "    >>> is_prime(10)\n",
    "    False\n",
    "    >>> is_prime(7)\n",
    "    True\n",
    "    \"\"\"\n",
    "    x = n\n",
    "    if n == 1:\n",
    "        return False\n",
    "    while x > 2:\n",
    "        x -= 1\n",
    "        if n % x == 0:\n",
    "            return False \n",
    "    return True\n",
    "\n",
    "is_prime(17)"
   ]
  },
  {
   "cell_type": "markdown",
   "metadata": {},
   "source": [
    "2. Environment Diagrams\n",
    "\n",
    "2.1 Use these rules to draw a simple diagram for the assignment statement below:\n",
    "x = 10 % 4 \n",
    "\n",
    "x | 2\n",
    "\n",
    "y | 2 \n",
    "\n",
    "\"\"\" **= means left side to the power of the right side\n",
    "\n",
    "e.g a**=b is equal to a to the power of b \"\"\"\n",
    "\n",
    "x | 4"
   ]
  },
  {
   "cell_type": "markdown",
   "metadata": {},
   "source": [
    "def statements\n",
    "\n",
    "\n",
    "def double(x):                          \n",
    "    return x * 2                            \n",
    "\n",
    "def triple(x):\n",
    "    return x * 3\n",
    "\n",
    "hat = double\n",
    "double = triple"
   ]
  },
  {
   "cell_type": "code",
   "execution_count": 25,
   "metadata": {},
   "outputs": [
    {
     "name": "stdout",
     "output_type": "stream",
     "text": [
      "rint\n",
      "one\n",
      "False None\n",
      "None\n",
      "None\n"
     ]
    },
    {
     "ename": "TypeError",
     "evalue": "unsupported operand type(s) for +: 'NoneType' and 'int'",
     "output_type": "error",
     "traceback": [
      "\u001b[0;31m---------------------------------------------------------------------------\u001b[0m",
      "\u001b[0;31mTypeError\u001b[0m                                 Traceback (most recent call last)",
      "Cell \u001b[0;32mIn[25], line 17\u001b[0m\n\u001b[1;32m     15\u001b[0m     \u001b[38;5;28;01mreturn\u001b[39;00m \u001b[38;5;28mprint\u001b[39m(p(y)) \u001b[38;5;241m+\u001b[39m x\n\u001b[1;32m     16\u001b[0m x, y \u001b[38;5;241m=\u001b[39m \u001b[38;5;241m2\u001b[39m , x \n\u001b[0;32m---> 17\u001b[0m \u001b[43mg\u001b[49m\u001b[43m(\u001b[49m\u001b[43my\u001b[49m\u001b[43m,\u001b[49m\u001b[43m \u001b[49m\u001b[43mp\u001b[49m\u001b[43m(\u001b[49m\u001b[38;5;124;43m\"\u001b[39;49m\u001b[38;5;124;43mrint\u001b[39;49m\u001b[38;5;124;43m\"\u001b[39;49m\u001b[43m)\u001b[49m\u001b[43m)\u001b[49m\n",
      "Cell \u001b[0;32mIn[25], line 15\u001b[0m, in \u001b[0;36mg\u001b[0;34m(x, y)\u001b[0m\n\u001b[1;32m     13\u001b[0m \u001b[38;5;28;01melse\u001b[39;00m:\n\u001b[1;32m     14\u001b[0m     \u001b[38;5;28mprint\u001b[39m(\u001b[38;5;28;01mFalse\u001b[39;00m, y)\n\u001b[0;32m---> 15\u001b[0m \u001b[38;5;28;01mreturn\u001b[39;00m \u001b[38;5;28;43mprint\u001b[39;49m\u001b[43m(\u001b[49m\u001b[43mp\u001b[49m\u001b[43m(\u001b[49m\u001b[43my\u001b[49m\u001b[43m)\u001b[49m\u001b[43m)\u001b[49m\u001b[43m \u001b[49m\u001b[38;5;241;43m+\u001b[39;49m\u001b[43m \u001b[49m\u001b[43mx\u001b[49m\n",
      "\u001b[0;31mTypeError\u001b[0m: unsupported operand type(s) for +: 'NoneType' and 'int'"
     ]
    }
   ],
   "source": [
    "x = 3\n",
    "\n",
    "def p(rint):\n",
    "    print(rint)\n",
    "\n",
    "def g(x,y):\n",
    "    if x:\n",
    "        print(\"one\")\n",
    "    elif x:\n",
    "        print(True, x)\n",
    "    if y:\n",
    "        print(True, y)\n",
    "    else:\n",
    "        print(False, y)\n",
    "    return print(p(y)) + x\n",
    "x, y = 2 , x \n",
    "g(y, p(\"rint\"))\n"
   ]
  },
  {
   "cell_type": "markdown",
   "metadata": {},
   "source": [
    "In the scenario above, the placements, it shows that importance of the placements\n",
    "of the if and elif and else statements.\n",
    "\n",
    "It first checks runs through the x variable, checking the 'if statements' and\n",
    "executing the code block if true, and does the same for the y variable.\n",
    "\n"
   ]
  }
 ],
 "metadata": {
  "kernelspec": {
   "display_name": "Python 3",
   "language": "python",
   "name": "python3"
  },
  "language_info": {
   "codemirror_mode": {
    "name": "ipython",
    "version": 3
   },
   "file_extension": ".py",
   "mimetype": "text/x-python",
   "name": "python",
   "nbconvert_exporter": "python",
   "pygments_lexer": "ipython3",
   "version": "3.11.5"
  }
 },
 "nbformat": 4,
 "nbformat_minor": 2
}
